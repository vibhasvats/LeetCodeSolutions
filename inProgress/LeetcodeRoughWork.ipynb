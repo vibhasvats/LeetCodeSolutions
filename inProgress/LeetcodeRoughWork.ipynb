{
 "cells": [
  {
   "cell_type": "code",
   "execution_count": 4,
   "metadata": {},
   "outputs": [
    {
     "name": "stdout",
     "output_type": "stream",
     "text": [
      "Method 1 took -2.7894973754882812e-05 time\n",
      "Method 2 took -2.6941299438476562e-05 time\n"
     ]
    }
   ],
   "source": [
    "# Naive solution\n",
    "\n",
    "        \n",
    "\n",
    "import time\n",
    "import numpy as np\n",
    "\n",
    "# nums = np.arange(10000)\n",
    "nums = [1,111,22,32]\n",
    "t1 = time.time()\n",
    "\n",
    "t2 = time.time()\n",
    "\n",
    "t3 = time.time()\n",
    "print(f\"Method 1 took {t1-t2} time\")\n",
    "print(f\"Method 2 took {t2-t3} time\")"
   ]
  },
  {
   "cell_type": "code",
   "execution_count": null,
   "metadata": {},
   "outputs": [],
   "source": [
    "str_list = str(nums)"
   ]
  },
  {
   "cell_type": "code",
   "execution_count": 9,
   "metadata": {},
   "outputs": [
    {
     "data": {
      "text/plain": [
       "[1, 1]"
      ]
     },
     "execution_count": 9,
     "metadata": {},
     "output_type": "execute_result"
    }
   ],
   "source": [
    "[1 for num in nums if len(str(num)) %2 ==0]"
   ]
  },
  {
   "cell_type": "code",
   "execution_count": 10,
   "metadata": {},
   "outputs": [],
   "source": [
    "def findNumbers(nums):\n",
    "    count_list = [1 for num in nums if len(str(num)) % 2 ==0]\n",
    "    return sum(count_list)"
   ]
  },
  {
   "cell_type": "code",
   "execution_count": 11,
   "metadata": {},
   "outputs": [
    {
     "name": "stdout",
     "output_type": "stream",
     "text": [
      "2\n"
     ]
    }
   ],
   "source": [
    "print(findNumbers(nums))"
   ]
  },
  {
   "cell_type": "code",
   "execution_count": null,
   "metadata": {},
   "outputs": [],
   "source": []
  }
 ],
 "metadata": {
  "kernelspec": {
   "display_name": "Python 3",
   "language": "python",
   "name": "python3"
  },
  "language_info": {
   "codemirror_mode": {
    "name": "ipython",
    "version": 3
   },
   "file_extension": ".py",
   "mimetype": "text/x-python",
   "name": "python",
   "nbconvert_exporter": "python",
   "pygments_lexer": "ipython3",
   "version": "3.8.0"
  }
 },
 "nbformat": 4,
 "nbformat_minor": 4
}
