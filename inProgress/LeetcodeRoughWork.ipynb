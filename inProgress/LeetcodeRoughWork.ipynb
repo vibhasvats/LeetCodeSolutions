{
 "cells": [
  {
   "cell_type": "code",
   "execution_count": 36,
   "metadata": {},
   "outputs": [],
   "source": [
    "# Naive solution\n",
    "def decompressRLElist(nums):\n",
    "    length = len(nums)\n",
    "    decompressed =[]\n",
    "    \n",
    "    assert(length%2 ==0)\n",
    "#     assert(length>=2 and length <=100)\n",
    "    \n",
    "    for i in range(0,length,2):\n",
    "        frequnecy = nums[i]\n",
    "        value = nums[i+1]\n",
    "        for j in range(frequnecy):\n",
    "            decompressed.append(value)\n",
    "    return decompressed\n",
    "\n",
    "# list multiplication\n",
    "def decompressRLElistLM(nums):\n",
    "    length = len(nums)\n",
    "    decompressed =[]\n",
    "    for i in range(0, length, 2):\n",
    "        temp =[]\n",
    "        freq = nums[i]\n",
    "        val = nums[i+1]\n",
    "        temp.append(val)\n",
    "        temp = temp*freq\n",
    "        decompressed.extend(temp)\n",
    "    return decompressed\n",
    "        \n",
    "\n",
    "import time\n",
    "import numpy as np\n",
    "\n",
    "# nums = np.arange(10000)\n",
    "nums = [1,1,2,3]\n",
    "t1 = time.time()\n",
    "decompressRLElist(nums)\n",
    "t2 = time.time()\n",
    "print(decompressRLElistLM(nums))\n",
    "t3 = time.time()\n",
    "print(f\"Method 1 took {t1-t2} time\")\n",
    "print(f\"Method 2 took {t2-t3} time\")"
   ]
  }
 ],
 "metadata": {
  "kernelspec": {
   "display_name": "Python 3",
   "language": "python",
   "name": "python3"
  },
  "language_info": {
   "codemirror_mode": {
    "name": "ipython",
    "version": 3
   },
   "file_extension": ".py",
   "mimetype": "text/x-python",
   "name": "python",
   "nbconvert_exporter": "python",
   "pygments_lexer": "ipython3",
   "version": "3.8.0"
  }
 },
 "nbformat": 4,
 "nbformat_minor": 4
}
