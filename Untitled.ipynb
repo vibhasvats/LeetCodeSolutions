{
 "cells": [
  {
   "cell_type": "code",
   "execution_count": 7,
   "metadata": {},
   "outputs": [
    {
     "name": "stdout",
     "output_type": "stream",
     "text": [
      "<bound method NDFrame.head of      1207  1207.1\n",
      "0    1431   344.0\n",
      "1    1365   977.0\n",
      "2    1295  1252.0\n",
      "3    1313  1351.0\n",
      "4    1389  1331.0\n",
      "..    ...     ...\n",
      "219   450     NaN\n",
      "220   150     NaN\n",
      "221   219     NaN\n",
      "222   347     NaN\n",
      "223   692     NaN\n",
      "\n",
      "[224 rows x 2 columns]>\n"
     ]
    }
   ],
   "source": [
    "import pandas as pd\n",
    "import numpy as np\n",
    "data = pd.read_csv(\"/Users/vibhas/Downloads/problems.csv\")\n",
    "print(data.head)\n"
   ]
  },
  {
   "cell_type": "code",
   "execution_count": 8,
   "metadata": {},
   "outputs": [],
   "source": [
    "vibhas = data.iloc[:,0]\n",
    "pau = set(np.array(data.iloc[:, 1]))"
   ]
  },
  {
   "cell_type": "code",
   "execution_count": 17,
   "metadata": {},
   "outputs": [],
   "source": [
    "pau_set = set([int(x) for x in data.iloc[:, 1] if ~np.isnan(x)])\n",
    "vibhas_set = set([int(x) for x in data.iloc[:, 0] if ~np.isnan(x)])"
   ]
  },
  {
   "cell_type": "code",
   "execution_count": 23,
   "metadata": {},
   "outputs": [
    {
     "name": "stdout",
     "output_type": "stream",
     "text": [
      "[1029, 1038, 530, 21, 1046, 1047, 26, 538, 27, 28, 34, 35, 559, 561, 53, 1078, 58, 70, 594, 83, 1108, 88, 98, 100, 101, 104, 617, 105, 107, 106, 111, 112, 116, 117, 628, 1143, 121, 633, 637, 136, 653, 142, 657, 1170, 150, 155, 669, 671, 1184, 682, 686, 1200, 692, 697, 700, 189, 704, 709, 1221, 198, 203, 225, 226, 230, 232, 744, 746, 235, 747, 234, 1260, 1266, 257, 258, 771, 263, 1295, 783, 1299, 278, 1304, 287, 819, 1342, 832, 1346, 326, 844, 852, 342, 345, 859, 860, 349, 347, 867, 872, 1385, 374, 1399, 888, 897, 1413, 389, 905, 404, 414, 415, 1441, 938, 941, 942, 1464, 441, 1470, 961, 450, 965, 1480, 459, 976, 1491, 985, 993, 1507, 1512, 501, 1018, 507]\n"
     ]
    }
   ],
   "source": [
    "pau_not_done = list(vibhas_set - pau_set)\n",
    "vibhas_not_done = list(pau_set - vibhas_set)\n",
    "\n",
    "print(pau_not_done)"
   ]
  },
  {
   "cell_type": "code",
   "execution_count": 24,
   "metadata": {},
   "outputs": [
    {
     "name": "stdout",
     "output_type": "stream",
     "text": [
      "[1, 1154, 1409, 9, 1422, 146, 791, 1185, 1324, 49, 1329, 705, 706, 1347, 1222, 202, 1227, 849, 999, 498, 1395, 1268, 122, 890]\n"
     ]
    }
   ],
   "source": [
    "print(vibhas_not_done)"
   ]
  },
  {
   "cell_type": "code",
   "execution_count": null,
   "metadata": {},
   "outputs": [],
   "source": []
  }
 ],
 "metadata": {
  "kernelspec": {
   "display_name": "Python 3",
   "language": "python",
   "name": "python3"
  },
  "language_info": {
   "codemirror_mode": {
    "name": "ipython",
    "version": 3
   },
   "file_extension": ".py",
   "mimetype": "text/x-python",
   "name": "python",
   "nbconvert_exporter": "python",
   "pygments_lexer": "ipython3",
   "version": "3.8.0"
  }
 },
 "nbformat": 4,
 "nbformat_minor": 4
}
